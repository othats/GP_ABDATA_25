{
 "cells": [
  {
   "cell_type": "code",
   "execution_count": null,
   "id": "cdcc7cfd",
   "metadata": {},
   "outputs": [],
   "source": [
    "import pandas as pd\n",
    "import matplotlib.pyplot as plt\n",
    "import seaborn as sns\n",
    "import numpy as np\n",
    "import os"
   ]
  },
  {
   "cell_type": "code",
   "execution_count": null,
   "id": "a38579d4",
   "metadata": {},
   "outputs": [],
   "source": [
    "data_path = '../data'\n",
    "# df = pd.read_csv(\"../data/consum_total_agregat.csv\")\n",
    "df = pd.read_parquet(os.path.join(data_path, 'parquet/1_ Consum total agregat.parquet'))\n",
    "display(df.head())"
   ]
  },
  {
   "cell_type": "code",
   "execution_count": null,
   "id": "a4eaed53",
   "metadata": {},
   "outputs": [],
   "source": [
    "# RENAME COLUMNS\n",
    "df.columns = [\n",
    "    \"CensusSection\", \"District\", \"Municipality\", \"Date\",\n",
    "    \"Use\", \"NumMeters\", \"Consumption_L_day\"\n",
    "]\n",
    "\n",
    "display(df.head())"
   ]
  },
  {
   "cell_type": "code",
   "execution_count": null,
   "id": "0033d42f",
   "metadata": {},
   "outputs": [],
   "source": [
    "print(df.shape)\n",
    "# There are 963419 rows and 7 columns in the dataset.\n",
    "\n",
    "# NUMBER OF DUPLICATE ROWS\n",
    "duplicate_rows = df.duplicated().sum()\n",
    "print(f\"Number of duplicate rows: {duplicate_rows}\")"
   ]
  },
  {
   "cell_type": "markdown",
   "id": "73044756",
   "metadata": {},
   "source": [
    "## Data Discovery"
   ]
  },
  {
   "cell_type": "code",
   "execution_count": null,
   "id": "dee3568e",
   "metadata": {},
   "outputs": [],
   "source": [
    "# CHECKING DATA TYPES AND NON-NULL COUNTS\n",
    "display(df.info())"
   ]
  },
  {
   "cell_type": "code",
   "execution_count": null,
   "id": "89f025fe",
   "metadata": {},
   "outputs": [],
   "source": [
    "# SUMMARY STATISTICS\n",
    "print(\"\\nDescriptive statistics:\")\n",
    "display(df.describe())\n",
    "print(\"\\nUnique values per column:\")\n",
    "display(df.nunique())"
   ]
  },
  {
   "cell_type": "code",
   "execution_count": null,
   "id": "9783aef1",
   "metadata": {},
   "outputs": [],
   "source": [
    "# DATA TRANSFORMATION\n",
    "\n",
    "# Date formatting\n",
    "df[\"Date\"] = pd.to_datetime(df[\"Date\"], errors='coerce')\n",
    "\n",
    "# Standardizing 'Use' column\n",
    "df[\"Use\"] = df[\"Use\"].replace({\n",
    "    \"Domèstic/Doméstico/Domestic\": \"Domestic\",\n",
    "    \"Comercial/Comercial/Commercial\": \"Commercial\",\n",
    "    \"Industrial/Industrial/Industrial\": \"Industrial\"\n",
    "})\n",
    "\n",
    "display(df.head())"
   ]
  },
  {
   "cell_type": "code",
   "execution_count": null,
   "id": "51972fab",
   "metadata": {},
   "outputs": [],
   "source": [
    "# District normalization\n",
    "print(df[\"District\"].value_counts()) # shows that some districts are formatted differently\n",
    "\n",
    "df[\"District\"] = df[\"District\"].replace(\">\", np.nan)\n",
    "df[\"District\"] = pd.to_numeric(df[\"District\"], errors=\"coerce\")\n",
    "df.loc[~df[\"District\"].between(1, 10), \"District\"] = np.nan\n",
    "\n",
    "print(df[\"District\"].value_counts())\n"
   ]
  },
  {
   "cell_type": "code",
   "execution_count": null,
   "id": "3737949b",
   "metadata": {},
   "outputs": [],
   "source": [
    "district_map = {\n",
    "    1: \"Ciutat Vella\",\n",
    "    2: \"L'Eixample\",\n",
    "    3: \"Sants-Montjuïc\",\n",
    "    4: \"Les Corts\",\n",
    "    5: \"Sarrià-Sant Gervasi\",\n",
    "    6: \"Gràcia\",\n",
    "    7: \"Horta-Guinardó\",\n",
    "    8: \"Nou Barris\",\n",
    "    9: \"Sant Andreu\",\n",
    "    10: \"Sant Martí\"\n",
    "}\n",
    "\n",
    "df[\"District_Name\"] = df[\"District\"].map(district_map)\n",
    "\n",
    "print(df[[\"District\", \"District_Name\"]].sample(5))"
   ]
  },
  {
   "cell_type": "code",
   "execution_count": null,
   "id": "80c61af3",
   "metadata": {},
   "outputs": [],
   "source": [
    "# ONLY KEEP RELEVANT COLUMNS\n",
    "df = df[[\"CensusSection\", \"District\", \"District_Name\", \"Date\", \"Use\", \"NumMeters\", \"Consumption_L_day\"]]"
   ]
  },
  {
   "cell_type": "code",
   "execution_count": null,
   "id": "82197d9c",
   "metadata": {},
   "outputs": [],
   "source": [
    "# HANDLING MISSING VALUES\n",
    "print(\"\\nMissing values per column:\")\n",
    "print(df.isnull().sum())\n",
    "\n",
    "# Do nothing for now, just report missing values"
   ]
  },
  {
   "cell_type": "markdown",
   "id": "9156785e",
   "metadata": {},
   "source": [
    "## EDA"
   ]
  },
  {
   "cell_type": "code",
   "execution_count": null,
   "id": "68fcf0e4",
   "metadata": {},
   "outputs": [],
   "source": [
    "# Use pie chart distribution / distribution of consumption by use type\n",
    "\n",
    "use_colors = {\n",
    "    \"Domestic\": \"skyblue\",\n",
    "    \"Commercial\": \"green\",\n",
    "    \"Industrial\": \"orange\"\n",
    "}\n",
    "\n",
    "uses_order = [\"Domestic\", \"Commercial\", \"Industrial\"]\n",
    "use_count = df[\"Use\"].value_counts().reindex(uses_order)\n",
    "use_share = df.groupby(\"Use\")[\"Consumption_L_day\"].sum().reindex(uses_order)\n",
    "\n",
    "fig, axes = plt.subplots(1, 2, figsize=(14, 6))\n",
    "\n",
    "axes[0].pie(\n",
    "    use_count,\n",
    "    labels=use_count.index,\n",
    "    autopct='%1.1f%%',\n",
    "    startangle=90,\n",
    "    counterclock=False,\n",
    "    colors=[use_colors[u] for u in use_count.index]\n",
    ")\n",
    "axes[0].set_title(\"Distribution of Records by Use Type\")\n",
    "\n",
    "axes[1].pie(\n",
    "    use_share,\n",
    "    labels=use_share.index,\n",
    "    autopct='%1.1f%%',\n",
    "    startangle=90,\n",
    "    counterclock=False, \n",
    "    colors=[use_colors[u] for u in use_count.index]\n",
    ")\n",
    "axes[1].set_title(\"Share of Total Water Consumption by Use Type\")\n",
    "\n",
    "plt.tight_layout()\n",
    "plt.show()"
   ]
  },
  {
   "cell_type": "code",
   "execution_count": null,
   "id": "5c848a84",
   "metadata": {},
   "outputs": [],
   "source": [
    "# District distribution\n",
    "district_colors = {\n",
    "    name: plt.cm.tab10(i)  # use matplotlib tab10 colormap\n",
    "    for i, name in enumerate(district_map.values())\n",
    "}\n",
    "\n",
    "districts_order = list(district_map.values())\n",
    "\n",
    "district_count = df[\"District_Name\"].value_counts().reindex(districts_order)\n",
    "\n",
    "district_share = df.groupby(\"District_Name\")[\"Consumption_L_day\"].sum().reindex(districts_order)\n",
    "\n",
    "fig, axes = plt.subplots(1, 2, figsize=(16, 6))\n",
    "\n",
    "axes[0].bar(\n",
    "    district_count.index,\n",
    "    district_count.values,\n",
    "    color=[district_colors[d] for d in district_count.index]\n",
    ")\n",
    "axes[0].set_title(\"Distribution of Records by District\")\n",
    "axes[0].set_xticklabels(district_count.index, rotation=45, ha=\"right\")\n",
    "\n",
    "axes[1].bar(\n",
    "    district_share.index,\n",
    "    district_share.values,\n",
    "    color=[district_colors[d] for d in district_share.index]\n",
    ")\n",
    "axes[1].set_title(\"Total Water Consumption by District\")\n",
    "axes[1].set_xticklabels(district_share.index, rotation=45, ha=\"right\")\n",
    "\n",
    "plt.tight_layout()\n",
    "plt.show()"
   ]
  },
  {
   "cell_type": "code",
   "execution_count": null,
   "id": "d5dc6802",
   "metadata": {},
   "outputs": [],
   "source": [
    "df[\"Consumption_per_meter\"] = df[\"Consumption_L_day\"] / df[\"NumMeters\"]\n",
    "district_avg = df.groupby(\"District_Name\")[\"Consumption_per_meter\"].mean().reindex(districts_order)\n",
    "\n",
    "plt.figure(figsize=(10,6))\n",
    "sns.barplot(x=district_avg.index, y=district_avg.values, palette=district_colors)\n",
    "plt.title(\"Average Daily Consumption per Meter by District\")\n",
    "plt.xticks(rotation=45, ha=\"right\")\n",
    "plt.ylabel(\"Liters per meter per day\")\n",
    "plt.show()\n"
   ]
  },
  {
   "cell_type": "code",
   "execution_count": null,
   "id": "ba7cfd47",
   "metadata": {},
   "outputs": [],
   "source": [
    "use_district_share = (\n",
    "    df.groupby([\"District_Name\", \"Use\"])[\"Consumption_L_day\"].sum()\n",
    "      .groupby(level=0).apply(lambda x: x / x.sum())\n",
    "      .unstack()\n",
    ")\n",
    "\n",
    "use_district_share.plot(kind=\"bar\", stacked=True, figsize=(12,6), color=use_colors)\n",
    "plt.title(\"Share of Consumption by Use Type within Each District\")\n",
    "plt.xticks(rotation=45, ha=\"right\")\n",
    "plt.xlabel(\"District\")\n",
    "plt.ylabel(\"Share of total consumption\")\n",
    "plt.legend(title=\"Use Type\")\n",
    "plt.tight_layout()\n",
    "plt.show()\n"
   ]
  },
  {
   "cell_type": "code",
   "execution_count": null,
   "id": "91c407de",
   "metadata": {},
   "outputs": [],
   "source": [
    "# Consumption over time\n",
    "plt.figure(figsize=(12,6))\n",
    "sns.lineplot(data=df, x=\"Date\", y=\"Consumption_L_day\", hue=\"Use\")\n",
    "plt.title(\"Water Consumption Over Time by Use Type\")\n",
    "plt.xlabel(\"Date\")\n",
    "plt.ylabel(\"Consumption (L/day)\")\n",
    "plt.legend(title=\"Use Type\")\n",
    "plt.tight_layout()\n",
    "plt.show()"
   ]
  },
  {
   "cell_type": "code",
   "execution_count": null,
   "id": "2d8cd922",
   "metadata": {},
   "outputs": [],
   "source": [
    "pivot = df.pivot_table(index=\"District_Name\", columns=\"Date\", values=\"Consumption_L_day\", aggfunc=\"sum\")\n",
    "plt.figure(figsize=(14,6))\n",
    "sns.heatmap(pivot, cmap=\"YlGnBu\")\n",
    "plt.title(\"Daily Water Consumption by District\")\n",
    "plt.xlabel(\"Date\")\n",
    "plt.ylabel(\"District\")\n",
    "plt.show()\n"
   ]
  },
  {
   "cell_type": "code",
   "execution_count": null,
   "id": "9914923d",
   "metadata": {},
   "outputs": [],
   "source": [
    "agg = df.groupby(\"CensusSection\")[[\"NumMeters\", \"Consumption_L_day\"]].sum().reset_index()\n",
    "sns.scatterplot(data=agg, x=\"NumMeters\", y=\"Consumption_L_day\")\n",
    "plt.title(\"Relationship between Number of Meters and Total Consumption\")\n",
    "plt.xlabel(\"Number of Meters\")\n",
    "plt.ylabel(\"Total Daily Consumption (L)\")\n",
    "plt.show()\n",
    "\n",
    "df[[\"NumMeters\", \"Consumption_L_day\"]].corr()"
   ]
  }
 ],
 "metadata": {
  "kernelspec": {
   "display_name": ".venv",
   "language": "python",
   "name": "python3"
  },
  "language_info": {
   "codemirror_mode": {
    "name": "ipython",
    "version": 3
   },
   "file_extension": ".py",
   "mimetype": "text/x-python",
   "name": "python",
   "nbconvert_exporter": "python",
   "pygments_lexer": "ipython3",
   "version": "3.13.7"
  }
 },
 "nbformat": 4,
 "nbformat_minor": 5
}
